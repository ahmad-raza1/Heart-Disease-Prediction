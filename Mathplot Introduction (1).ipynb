{
 "cells": [
  {
   "cell_type": "code",
   "execution_count": 1,
   "metadata": {},
   "outputs": [],
   "source": [
    "import pandas as pd"
   ]
  },
  {
   "cell_type": "code",
   "execution_count": 2,
   "metadata": {},
   "outputs": [
    {
     "data": {
      "text/html": [
       "<div>\n",
       "<style scoped>\n",
       "    .dataframe tbody tr th:only-of-type {\n",
       "        vertical-align: middle;\n",
       "    }\n",
       "\n",
       "    .dataframe tbody tr th {\n",
       "        vertical-align: top;\n",
       "    }\n",
       "\n",
       "    .dataframe thead th {\n",
       "        text-align: right;\n",
       "    }\n",
       "</style>\n",
       "<table border=\"1\" class=\"dataframe\">\n",
       "  <thead>\n",
       "    <tr style=\"text-align: right;\">\n",
       "      <th></th>\n",
       "      <th>Month</th>\n",
       "      <th>Muree</th>\n",
       "      <th>Lahore</th>\n",
       "      <th>Karachi</th>\n",
       "      <th>Islamabad</th>\n",
       "    </tr>\n",
       "  </thead>\n",
       "  <tbody>\n",
       "    <tr>\n",
       "      <th>0</th>\n",
       "      <td>Jan</td>\n",
       "      <td>-17.0</td>\n",
       "      <td>-2.0</td>\n",
       "      <td>5</td>\n",
       "      <td>-5.0</td>\n",
       "    </tr>\n",
       "    <tr>\n",
       "      <th>1</th>\n",
       "      <td>Feb</td>\n",
       "      <td>-15.0</td>\n",
       "      <td>0.0</td>\n",
       "      <td>7</td>\n",
       "      <td>-3.0</td>\n",
       "    </tr>\n",
       "    <tr>\n",
       "      <th>2</th>\n",
       "      <td>Mar</td>\n",
       "      <td>-2.0</td>\n",
       "      <td>10.0</td>\n",
       "      <td>10</td>\n",
       "      <td>0.0</td>\n",
       "    </tr>\n",
       "    <tr>\n",
       "      <th>3</th>\n",
       "      <td>Apr</td>\n",
       "      <td>10.0</td>\n",
       "      <td>15.0</td>\n",
       "      <td>15</td>\n",
       "      <td>10.0</td>\n",
       "    </tr>\n",
       "    <tr>\n",
       "      <th>4</th>\n",
       "      <td>May</td>\n",
       "      <td>12.0</td>\n",
       "      <td>20.0</td>\n",
       "      <td>20</td>\n",
       "      <td>12.0</td>\n",
       "    </tr>\n",
       "    <tr>\n",
       "      <th>5</th>\n",
       "      <td>Jun</td>\n",
       "      <td>15.0</td>\n",
       "      <td>30.0</td>\n",
       "      <td>24</td>\n",
       "      <td>15.0</td>\n",
       "    </tr>\n",
       "    <tr>\n",
       "      <th>6</th>\n",
       "      <td>Jul</td>\n",
       "      <td>20.0</td>\n",
       "      <td>34.0</td>\n",
       "      <td>23</td>\n",
       "      <td>25.0</td>\n",
       "    </tr>\n",
       "    <tr>\n",
       "      <th>7</th>\n",
       "      <td>Aug</td>\n",
       "      <td>25.0</td>\n",
       "      <td>45.0</td>\n",
       "      <td>30</td>\n",
       "      <td>35.0</td>\n",
       "    </tr>\n",
       "    <tr>\n",
       "      <th>8</th>\n",
       "      <td>Sep</td>\n",
       "      <td>30.0</td>\n",
       "      <td>30.0</td>\n",
       "      <td>18</td>\n",
       "      <td>30.0</td>\n",
       "    </tr>\n",
       "    <tr>\n",
       "      <th>9</th>\n",
       "      <td>Oct</td>\n",
       "      <td>10.0</td>\n",
       "      <td>15.0</td>\n",
       "      <td>15</td>\n",
       "      <td>15.0</td>\n",
       "    </tr>\n",
       "    <tr>\n",
       "      <th>10</th>\n",
       "      <td>Nov</td>\n",
       "      <td>5.0</td>\n",
       "      <td>10.0</td>\n",
       "      <td>12</td>\n",
       "      <td>10.0</td>\n",
       "    </tr>\n",
       "    <tr>\n",
       "      <th>11</th>\n",
       "      <td>Dec</td>\n",
       "      <td>2.0</td>\n",
       "      <td>2.0</td>\n",
       "      <td>9</td>\n",
       "      <td>2.0</td>\n",
       "    </tr>\n",
       "  </tbody>\n",
       "</table>\n",
       "</div>"
      ],
      "text/plain": [
       "   Month  Muree  Lahore  Karachi  Islamabad\n",
       "0    Jan  -17.0    -2.0        5       -5.0\n",
       "1    Feb  -15.0     0.0        7       -3.0\n",
       "2    Mar   -2.0    10.0       10        0.0\n",
       "3    Apr   10.0    15.0       15       10.0\n",
       "4    May   12.0    20.0       20       12.0\n",
       "5    Jun   15.0    30.0       24       15.0\n",
       "6    Jul   20.0    34.0       23       25.0\n",
       "7    Aug   25.0    45.0       30       35.0\n",
       "8    Sep   30.0    30.0       18       30.0\n",
       "9    Oct   10.0    15.0       15       15.0\n",
       "10   Nov    5.0    10.0       12       10.0\n",
       "11   Dec    2.0     2.0        9        2.0"
      ]
     },
     "execution_count": 2,
     "metadata": {},
     "output_type": "execute_result"
    }
   ],
   "source": [
    "data = {'Month':['Jan', 'Feb', 'Mar', 'Apr','May','Jun','Jul','Aug','Sep','Oct','Nov','Dec'],\n",
    "        'Muree':[-17.0, -15, -2, 10, 12, 15, 20, 25, 30, 10, 5, 2],\n",
    "        'Lahore':[-2.0, 0, 10, 15, 20, 30, 34, 45, 30, 15, 10, 2],\n",
    "        'Karachi':[5, 7, 10, 15, 20, 24, 23, 30, 18, 15, 12, 9],\n",
    "        'Islamabad':[-5.0, -3.0, 0, 10, 12, 15, 25, 35, 30, 15, 10, 2]}\n",
    "  \n",
    "# Creates pandas DataFrame.\n",
    "df = pd.DataFrame(data)\n",
    "df.head(50)"
   ]
  },
  {
   "cell_type": "code",
   "execution_count": 3,
   "metadata": {},
   "outputs": [
    {
     "data": {
      "image/png": "[encoded data removed]",
      "text/plain": [
       "<Figure size 432x288 with 1 Axes>"
      ]
     },
     "metadata": {
      "needs_background": "light"
     },
     "output_type": "display_data"
    }
   ],
   "source": [
    "import matplotlib.pyplot as plt\n",
    "fig,ax =plt.subplots()\n",
    "plt.show()"
   ]
  },
  {
   "cell_type": "code",
   "execution_count": 4,
   "metadata": {},
   "outputs": [
    {
     "data": {
      "image/png": "[encoded data removed]",
      "text/plain": [
       "<Figure size 432x288 with 1 Axes>"
      ]
     },
     "metadata": {
      "needs_background": "light"
     },
     "output_type": "display_data"
    }
   ],
   "source": [
    "fig,ax =plt.subplots()\n",
    "ax.plot(df['Month'],df['Lahore'],marker=\"o\",linestyle=\"--\",color='r')\n",
    "ax.plot(df['Month'],df['Muree'],marker=\"v\")\n",
    "plt.show()"
   ]
  },
  {
   "cell_type": "code",
   "execution_count": 5,
   "metadata": {},
   "outputs": [
    {
     "data": {
      "image/png": "[encoded data removed]",
      "text/plain": [
       "<Figure size 432x288 with 4 Axes>"
      ]
     },
     "metadata": {
      "needs_background": "light"
     },
     "output_type": "display_data"
    }
   ],
   "source": [
    "fig,ax = plt.subplots(2,2)\n",
    "ax[0,0].plot(df['Month'],df['Lahore'])\n",
    "ax[0,1].plot(df['Month'],df['Muree'])\n",
    "ax[1,0].plot(df['Month'],df['Islamabad'])\n",
    "ax[1,1].plot(df['Month'],df['Karachi'])\n",
    "plt.show()"
   ]
  },
  {
   "cell_type": "code",
   "execution_count": 10,
   "metadata": {},
   "outputs": [
    {
     "data": {
      "image/png": "[encoded data removed]",
      "text/plain": [
       "<Figure size 432x288 with 1 Axes>"
      ]
     },
     "metadata": {
      "needs_background": "light"
     },
     "output_type": "display_data"
    }
   ],
   "source": [
    "fig,ax = plt.subplots()\n",
    "ax.stackplot(df['Month'],df['Lahore'],color='r')\n",
    "ax.stackplot(df['Month'],df['Muree'],color='g')\n",
    "ax.stackplot(df['Month'],df['Islamabad'],color='b')\n",
    "ax.stackplot(df['Month'],df['Karachi'],color='y')\n",
    "plt.show()"
   ]
  },
  {
   "cell_type": "code",
   "execution_count": 13,
   "metadata": {},
   "outputs": [
    {
     "name": "stdout",
     "output_type": "stream",
     "text": [
      "Muree         7.916667\n",
      "Lahore       17.416667\n",
      "Karachi      15.666667\n",
      "Islamabad    12.166667\n",
      "dtype: float64\n"
     ]
    }
   ],
   "source": [
    "TemperatureMean = df.mean()\n",
    "print(TemperatureMean)\n"
   ]
  },
  {
   "cell_type": "code",
   "execution_count": 15,
   "metadata": {},
   "outputs": [
    {
     "name": "stdout",
     "output_type": "stream",
     "text": [
      "Index(['Muree', 'Lahore', 'Karachi', 'Islamabad'], dtype='object')\n"
     ]
    }
   ],
   "source": [
    "print(TemperatureMean.index)"
   ]
  },
  {
   "cell_type": "code",
   "execution_count": 16,
   "metadata": {},
   "outputs": [
    {
     "name": "stdout",
     "output_type": "stream",
     "text": [
      "[ 7.91666667 17.41666667 15.66666667 12.16666667]\n"
     ]
    }
   ],
   "source": [
    "print(TemperatureMean.values)"
   ]
  },
  {
   "cell_type": "code",
   "execution_count": 17,
   "metadata": {},
   "outputs": [
    {
     "data": {
      "image/png": "[encoded data removed]",
      "text/plain": [
       "<Figure size 432x288 with 1 Axes>"
      ]
     },
     "metadata": {
      "needs_background": "light"
     },
     "output_type": "display_data"
    }
   ],
   "source": [
    "fig,ax = plt.subplots()\n",
    "ax.bar(TemperatureMean.index,TemperatureMean.values)\n",
    "plt.show()"
   ]
  },
  {
   "cell_type": "code",
   "execution_count": 18,
   "metadata": {},
   "outputs": [
    {
     "data": {
      "image/png": "[encoded data removed]",
      "text/plain": [
       "<Figure size 432x288 with 1 Axes>"
      ]
     },
     "metadata": {
      "needs_background": "light"
     },
     "output_type": "display_data"
    }
   ],
   "source": [
    "fig,ax = plt.subplots()\n",
    "ax.bar(TemperatureMean.index,TemperatureMean.values)\n",
    "ax.set_ylabel('Temperature')\n",
    "ax.set_xlabel('Cities')\n",
    "ax.set_title('Temperature Comparison')\n",
    "plt.show()"
   ]
  },
  {
   "cell_type": "code",
   "execution_count": 19,
   "metadata": {},
   "outputs": [
    {
     "data": {
      "image/png": "[encoded data removed]",
      "text/plain": [
       "<Figure size 432x288 with 1 Axes>"
      ]
     },
     "metadata": {
      "needs_background": "light"
     },
     "output_type": "display_data"
    }
   ],
   "source": [
    "fig,ax = plt.subplots()\n",
    "ax.scatter(TemperatureMean.index,TemperatureMean.values)\n",
    "ax.set_ylabel('Temperature')\n",
    "ax.set_xlabel('Cities')\n",
    "ax.set_title('Temperature Comparison')\n",
    "plt.show()"
   ]
  },
  {
   "cell_type": "code",
   "execution_count": null,
   "metadata": {},
   "outputs": [],
   "source": []
  },
  {
   "cell_type": "code",
   "execution_count": null,
   "metadata": {},
   "outputs": [],
   "source": []
  },
  {
   "cell_type": "code",
   "execution_count": null,
   "metadata": {},
   "outputs": [],
   "source": []
  },
  {
   "cell_type": "code",
   "execution_count": 20,
   "metadata": {},
   "outputs": [
    {
     "data": {
      "text/html": [
       "<div>\n",
       "<style scoped>\n",
       "    .dataframe tbody tr th:only-of-type {\n",
       "        vertical-align: middle;\n",
       "    }\n",
       "\n",
       "    .dataframe tbody tr th {\n",
       "        vertical-align: top;\n",
       "    }\n",
       "\n",
       "    .dataframe thead th {\n",
       "        text-align: right;\n",
       "    }\n",
       "</style>\n",
       "<table border=\"1\" class=\"dataframe\">\n",
       "  <thead>\n",
       "    <tr style=\"text-align: right;\">\n",
       "      <th></th>\n",
       "      <th>Month</th>\n",
       "      <th>Muree</th>\n",
       "      <th>Lahore</th>\n",
       "      <th>Karachi</th>\n",
       "      <th>Islamabad</th>\n",
       "    </tr>\n",
       "  </thead>\n",
       "  <tbody>\n",
       "    <tr>\n",
       "      <th>0</th>\n",
       "      <td>Jan</td>\n",
       "      <td>500</td>\n",
       "      <td>150</td>\n",
       "      <td>700</td>\n",
       "      <td>1000</td>\n",
       "    </tr>\n",
       "    <tr>\n",
       "      <th>1</th>\n",
       "      <td>Feb</td>\n",
       "      <td>350</td>\n",
       "      <td>250</td>\n",
       "      <td>450</td>\n",
       "      <td>1200</td>\n",
       "    </tr>\n",
       "    <tr>\n",
       "      <th>2</th>\n",
       "      <td>Mar</td>\n",
       "      <td>250</td>\n",
       "      <td>350</td>\n",
       "      <td>350</td>\n",
       "      <td>1500</td>\n",
       "    </tr>\n",
       "    <tr>\n",
       "      <th>3</th>\n",
       "      <td>Apr</td>\n",
       "      <td>400</td>\n",
       "      <td>450</td>\n",
       "      <td>500</td>\n",
       "      <td>500</td>\n",
       "    </tr>\n",
       "    <tr>\n",
       "      <th>4</th>\n",
       "      <td>May</td>\n",
       "      <td>1000</td>\n",
       "      <td>500</td>\n",
       "      <td>300</td>\n",
       "      <td>750</td>\n",
       "    </tr>\n",
       "    <tr>\n",
       "      <th>5</th>\n",
       "      <td>Jun</td>\n",
       "      <td>1500</td>\n",
       "      <td>1000</td>\n",
       "      <td>250</td>\n",
       "      <td>650</td>\n",
       "    </tr>\n",
       "    <tr>\n",
       "      <th>6</th>\n",
       "      <td>Jul</td>\n",
       "      <td>2000</td>\n",
       "      <td>1500</td>\n",
       "      <td>150</td>\n",
       "      <td>200</td>\n",
       "    </tr>\n",
       "    <tr>\n",
       "      <th>7</th>\n",
       "      <td>Aug</td>\n",
       "      <td>1700</td>\n",
       "      <td>2000</td>\n",
       "      <td>180</td>\n",
       "      <td>150</td>\n",
       "    </tr>\n",
       "    <tr>\n",
       "      <th>8</th>\n",
       "      <td>Sep</td>\n",
       "      <td>1800</td>\n",
       "      <td>2100</td>\n",
       "      <td>500</td>\n",
       "      <td>50</td>\n",
       "    </tr>\n",
       "    <tr>\n",
       "      <th>9</th>\n",
       "      <td>Oct</td>\n",
       "      <td>1600</td>\n",
       "      <td>1500</td>\n",
       "      <td>600</td>\n",
       "      <td>100</td>\n",
       "    </tr>\n",
       "    <tr>\n",
       "      <th>10</th>\n",
       "      <td>Nov</td>\n",
       "      <td>1000</td>\n",
       "      <td>700</td>\n",
       "      <td>700</td>\n",
       "      <td>200</td>\n",
       "    </tr>\n",
       "    <tr>\n",
       "      <th>11</th>\n",
       "      <td>Dec</td>\n",
       "      <td>750</td>\n",
       "      <td>500</td>\n",
       "      <td>750</td>\n",
       "      <td>350</td>\n",
       "    </tr>\n",
       "  </tbody>\n",
       "</table>\n",
       "</div>"
      ],
      "text/plain": [
       "   Month  Muree  Lahore  Karachi  Islamabad\n",
       "0    Jan    500     150      700       1000\n",
       "1    Feb    350     250      450       1200\n",
       "2    Mar    250     350      350       1500\n",
       "3    Apr    400     450      500        500\n",
       "4    May   1000     500      300        750\n",
       "5    Jun   1500    1000      250        650\n",
       "6    Jul   2000    1500      150        200\n",
       "7    Aug   1700    2000      180        150\n",
       "8    Sep   1800    2100      500         50\n",
       "9    Oct   1600    1500      600        100\n",
       "10   Nov   1000     700      700        200\n",
       "11   Dec    750     500      750        350"
      ]
     },
     "execution_count": 20,
     "metadata": {},
     "output_type": "execute_result"
    }
   ],
   "source": [
    "data = {'Month':['Jan', 'Feb', 'Mar', 'Apr','May','Jun','Jul','Aug','Sep','Oct','Nov','Dec'],\n",
    "        'Muree':[500, 350, 250, 400, 1000, 1500, 2000, 1700, 1800, 1600, 1000, 750],\n",
    "        'Lahore':[150, 250, 350, 450, 500, 1000, 1500, 2000, 2100, 1500, 700, 500],\n",
    "        'Karachi':[700, 450, 350, 500, 300, 250, 150, 180, 500, 600, 700, 750],\n",
    "        'Islamabad':[1000, 1200, 1500, 500, 750, 650, 200, 150, 50, 100, 200, 350]}\n",
    "  \n",
    "# Creates pandas DataFrame.\n",
    "df = pd.DataFrame(data)\n",
    "df.head(50)"
   ]
  },
  {
   "cell_type": "code",
   "execution_count": 22,
   "metadata": {},
   "outputs": [
    {
     "name": "stdout",
     "output_type": "stream",
     "text": [
      "35930\n"
     ]
    }
   ],
   "source": [
    "Total_customers = df['Muree'].sum() + df['Lahore'].sum() + df['Karachi'].sum() + df['Islamabad'].sum()\n",
    "print(Total_customers)"
   ]
  },
  {
   "cell_type": "code",
   "execution_count": 24,
   "metadata": {},
   "outputs": [
    {
     "name": "stdout",
     "output_type": "stream",
     "text": [
      "Month        JanFebMarAprMayJunJulAugSepOctNovDec\n",
      "Muree                                       12850\n",
      "Lahore                                      11000\n",
      "Karachi                                      5430\n",
      "Islamabad                                    6650\n",
      "dtype: object\n"
     ]
    }
   ],
   "source": [
    "Customers = df.sum()\n",
    "print(Customers)"
   ]
  },
  {
   "cell_type": "code",
   "execution_count": 25,
   "metadata": {},
   "outputs": [
    {
     "name": "stdout",
     "output_type": "stream",
     "text": [
      "Muree        12850\n",
      "Lahore       11000\n",
      "Karachi       5430\n",
      "Islamabad     6650\n",
      "dtype: object\n"
     ]
    }
   ],
   "source": [
    "Customers.drop('Month',inplace=True)\n",
    "print(Customers)"
   ]
  },
  {
   "cell_type": "code",
   "execution_count": 26,
   "metadata": {},
   "outputs": [
    {
     "name": "stdout",
     "output_type": "stream",
     "text": [
      "35930\n"
     ]
    }
   ],
   "source": [
    "Customers = Customers.divide(Total_customers)\n",
    "print(Total_customers)"
   ]
  },
  {
   "cell_type": "code",
   "execution_count": 27,
   "metadata": {},
   "outputs": [
    {
     "name": "stdout",
     "output_type": "stream",
     "text": [
      "Muree         0.35764\n",
      "Lahore       0.306151\n",
      "Karachi      0.151127\n",
      "Islamabad    0.185082\n",
      "dtype: object\n"
     ]
    }
   ],
   "source": [
    "print(Customers)"
   ]
  },
  {
   "cell_type": "code",
   "execution_count": 28,
   "metadata": {},
   "outputs": [
    {
     "name": "stdout",
     "output_type": "stream",
     "text": [
      "Muree         35.764\n",
      "Lahore       30.6151\n",
      "Karachi      15.1127\n",
      "Islamabad    18.5082\n",
      "dtype: object\n"
     ]
    }
   ],
   "source": [
    "c = Customers.multiply(100)\n",
    "print(Customers)"
   ]
  },
  {
   "cell_type": "code",
   "execution_count": 29,
   "metadata": {},
   "outputs": [
    {
     "name": "stdout",
     "output_type": "stream",
     "text": [
      "Muree        35\n",
      "Lahore       30\n",
      "Karachi      15\n",
      "Islamabad    18\n",
      "dtype: int64\n"
     ]
    }
   ],
   "source": [
    "Customers = Customers.astype(int)\n",
    "print(Customers)"
   ]
  },
  {
   "cell_type": "code",
   "execution_count": 34,
   "metadata": {},
   "outputs": [
    {
     "data": {
      "image/png": "[encoded data removed]",
      "text/plain": [
       "<Figure size 432x288 with 1 Axes>"
      ]
     },
     "metadata": {},
     "output_type": "display_data"
    }
   ],
   "source": [
    "fig,ax = plt.subplots()\n",
    "ax.pie(Customers.values.tolist(),labels=Customers.index.tolist(),autopct='%1.1f%%', startangle=90)\n",
    "plt.show()"
   ]
  },
  {
   "cell_type": "code",
   "execution_count": 35,
   "metadata": {},
   "outputs": [
    {
     "data": {
      "image/png": "[encoded data removed]",
      "text/plain": [
       "<Figure size 432x288 with 1 Axes>"
      ]
     },
     "metadata": {
      "needs_background": "light"
     },
     "output_type": "display_data"
    }
   ],
   "source": [
    "fig,ax = plt.subplots()\n",
    "ax.hist(df['Muree'])\n",
    "plt.show()"
   ]
  },
  {
   "cell_type": "code",
   "execution_count": null,
   "metadata": {},
   "outputs": [],
   "source": []
  }
 ],
 "metadata": {
  "kernelspec": {
   "display_name": "Python 3",
   "language": "python",
   "name": "python3"
  },
  "language_info": {
   "codemirror_mode": {
    "name": "ipython",
    "version": 3
   },
   "file_extension": ".py",
   "mimetype": "text/x-python",
   "name": "python",
   "nbconvert_exporter": "python",
   "pygments_lexer": "ipython3",
   "version": "3.7.6"
  }
 },
 "nbformat": 4,
 "nbformat_minor": 4
}
